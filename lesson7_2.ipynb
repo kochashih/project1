{
 "cells": [
  {
   "cell_type": "code",
   "execution_count": 2,
   "metadata": {},
   "outputs": [],
   "source": [
    "#如果參數有預設值,預設值一定要放在最後面\n",
    "def menu(wine,entree,dessert=\"奶昔\"):\n",
    "    print(f\"wine={wine}\")\n",
    "    print(f\"entree={entree}\")\n",
    "    print(f\"dessert={dessert}\")"
   ]
  },
  {
   "cell_type": "code",
   "execution_count": 3,
   "metadata": {},
   "outputs": [
    {
     "name": "stdout",
     "output_type": "stream",
     "text": [
      "wine=白酒\n",
      "entree=牛排\n",
      "dessert=奶昔\n"
     ]
    }
   ],
   "source": [
    "menu(\"白酒\",\"牛排\")\n",
    "#因dessert已經預設 可以不用呼叫沒關係 "
   ]
  },
  {
   "cell_type": "code",
   "execution_count": 4,
   "metadata": {},
   "outputs": [
    {
     "name": "stdout",
     "output_type": "stream",
     "text": [
      "wine=白酒\n",
      "entree=牛排\n",
      "dessert=蛋糕\n"
     ]
    }
   ],
   "source": [
    "menu(\"白酒\",'牛排',dessert=\"蛋糕\")\n",
    "#若要改變預設值 則需要使用引數名稱呼叫"
   ]
  }
 ],
 "metadata": {
  "kernelspec": {
   "display_name": "Python 3.10.8 ('venv02')",
   "language": "python",
   "name": "python3"
  },
  "language_info": {
   "codemirror_mode": {
    "name": "ipython",
    "version": 3
   },
   "file_extension": ".py",
   "mimetype": "text/x-python",
   "name": "python",
   "nbconvert_exporter": "python",
   "pygments_lexer": "ipython3",
   "version": "3.10.8"
  },
  "orig_nbformat": 4,
  "vscode": {
   "interpreter": {
    "hash": "5f0688a35ead239a10407915425add4c76b70960b3db7c12a80759ed067de409"
   }
  }
 },
 "nbformat": 4,
 "nbformat_minor": 2
}
