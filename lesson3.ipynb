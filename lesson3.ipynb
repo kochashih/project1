{
 "cells": [
  {
   "cell_type": "code",
   "execution_count": 4,
   "metadata": {},
   "outputs": [
    {
     "name": "stdout",
     "output_type": "stream",
     "text": [
      "獎金:0\n"
     ]
    }
   ],
   "source": [
    "\n",
    "#邏輯運算子\n",
    "#國文分數100分 同時 英文分數100分 獎金1000\n",
    "#國文分數100分 或者 英文分數100分 獎金500\n",
    "\n",
    "chinese=int(input(\"輸入國文分數\"))\n",
    "english=int(input(\"輸入英文分數\"))\n",
    "bonus=0\n",
    "\n",
    "if chinese==100 and english==100:\n",
    "    bonus=1000\n",
    "elif chinese==100 or english==100:\n",
    "    bonus=500\n",
    "else:\n",
    "    bonus=0\n",
    "print(f\"獎金:{bonus}\") \n"
   ]
  },
  {
   "cell_type": "code",
   "execution_count": 16,
   "metadata": {},
   "outputs": [
    {
     "name": "stdout",
     "output_type": "stream",
     "text": [
      "BMI值:20.83\n",
      "正常範圍\n"
     ]
    }
   ],
   "source": [
    "#BMI計算 \n",
    "#BMI計算公式:BMI=體重(公斤)/身高平方(公尺平方)\n",
    "#ex 52kg,155cm 52/1.55平方=21.6\n",
    "\n",
    "weight=float(input(\"輸入體重\"))\n",
    "height=float(input(\"輸入身高\"))\n",
    "bmi=weight/(height/100)**2     #若身高輸入公分 則weight/(height/100)**2\n",
    "\n",
    "print(f\"BMI值:{bmi:.2f}\")        #:.2f 顯示至小數點第二位\n",
    "\n",
    "if bmi<18.5:\n",
    "    print(\"體重過輕\")\n",
    "elif bmi<24:\n",
    "    print(\"正常範圍\")\n",
    "elif bmi<27:\n",
    "    print(\"過重\") \n",
    "elif bmi<30:\n",
    "    print(\"清度肥胖\")\n",
    "elif bmi<35:\n",
    "    print(\"中度肥胖\")\n",
    "else:\n",
    "    print(\"重度肥胖\")\n",
    "\n",
    "\n",
    "'''\n",
    "if bmi<18.5:\n",
    "    state=\"體重過輕\"\n",
    "elif bmi<24:\n",
    "    state=\"正常範圍\"\n",
    "elif bmi<27:                          if or 迴圈 內 建立的變數(state) 外圍的程式區塊也可讀取\n",
    "    state=\"過重\"                                   \n",
    "elif bmi<30:\n",
    "    state=\"清度肥胖\"\n",
    "elif bmi<35:\n",
    "    state=\"中度肥胖\"\n",
    "else:\n",
    "    state=\"重度肥胖\"\n",
    "print(state)\n",
    "'''\n",
    "\n"
   ]
  }
 ],
 "metadata": {
  "kernelspec": {
   "display_name": "Python 3.10.8 64-bit",
   "language": "python",
   "name": "python3"
  },
  "language_info": {
   "codemirror_mode": {
    "name": "ipython",
    "version": 3
   },
   "file_extension": ".py",
   "mimetype": "text/x-python",
   "name": "python",
   "nbconvert_exporter": "python",
   "pygments_lexer": "ipython3",
   "version": "3.10.8"
  },
  "orig_nbformat": 4,
  "vscode": {
   "interpreter": {
    "hash": "c19fa61d258bb2b35aae2ada233c33e2817c1ce895aa48acba720c6bf7cbe3cb"
   }
  }
 },
 "nbformat": 4,
 "nbformat_minor": 2
}
