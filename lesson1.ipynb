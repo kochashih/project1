{
 "cells": [
  {
   "cell_type": "code",
   "execution_count": 19,
   "metadata": {},
   "outputs": [
    {
     "name": "stdout",
     "output_type": "stream",
     "text": [
      "wayne\n"
     ]
    }
   ],
   "source": [
    "name=input(\"請輸入姓名\")\n",
    "print(name)"
   ]
  },
  {
   "cell_type": "code",
   "execution_count": 25,
   "metadata": {},
   "outputs": [
    {
     "name": "stdout",
     "output_type": "stream",
     "text": [
      "你的名字:wayne\n",
      "中文分數:60\n",
      "英文分數:80\n",
      "總分是140 平均是70.0\n"
     ]
    }
   ],
   "source": [
    "name=\"wayne\"\n",
    "chinese=60\n",
    "english=80\n",
    "sum=chinese+english\n",
    "average=sum/2\n",
    "\n",
    "print(f\"你的名字:{name}\")\n",
    "print(f\"中文分數:{chinese}\")\n",
    "print(f\"英文分數:{english}\")\n",
    "print(f\"總分是{sum} 平均是{average}\")"
   ]
  },
  {
   "cell_type": "code",
   "execution_count": 26,
   "metadata": {},
   "outputs": [
    {
     "name": "stdout",
     "output_type": "stream",
     "text": [
      "國文分數:78,英文分數:67,總分是145\n"
     ]
    }
   ],
   "source": [
    "chinese=int(input(\"請輸入國文成績\"))\n",
    "english=int(input(\"請輸入英文成績\"))\n",
    "\n",
    "sum=chinese+english\n",
    "print(f\"國文分數:{chinese},英文分數:{english},總分是{chinese+english}\")\n"
   ]
  },
  {
   "cell_type": "code",
   "execution_count": 15,
   "metadata": {},
   "outputs": [
    {
     "name": "stdout",
     "output_type": "stream",
     "text": [
      "<class 'float'>\n",
      "<class 'str'>\n",
      "<class 'float'>\n",
      "<class 'bool'>\n"
     ]
    }
   ],
   "source": [
    "#動態型別\n",
    "#eval 將字串變成運算式\n",
    "\n",
    "\n",
    "a1 = 20+30.0\n",
    "a2 = \"8+77\"\n",
    "a3=6+1.2\n",
    "a4=True\n",
    "\n",
    "\n",
    "print(type(a1))\n",
    "print(type(a2))\n",
    "print(type(a3))\n",
    "print(type(a4))"
   ]
  },
  {
   "cell_type": "code",
   "execution_count": 30,
   "metadata": {},
   "outputs": [
    {
     "data": {
      "text/plain": [
       "170"
      ]
     },
     "execution_count": 30,
     "metadata": {},
     "output_type": "execute_result"
    }
   ],
   "source": [
    "#eval 將字串變成運算式\n",
    "eval (\"80+90\")"
   ]
  },
  {
   "cell_type": "code",
   "execution_count": 31,
   "metadata": {},
   "outputs": [
    {
     "name": "stdout",
     "output_type": "stream",
     "text": [
      "國文:60,英文:80.3,總分140.3\n"
     ]
    }
   ],
   "source": [
    "chinese=eval(input(\"輸入國文分數:\"))\n",
    "english=eval(input(\"輸入英文成績:\"))\n",
    "sum=chinese+english\n",
    "\n",
    "print(f\"國文:{chinese},英文:{english},總分{sum}\")"
   ]
  },
  {
   "cell_type": "code",
   "execution_count": 33,
   "metadata": {},
   "outputs": [
    {
     "data": {
      "text/plain": [
       "10"
      ]
     },
     "execution_count": 33,
     "metadata": {},
     "output_type": "execute_result"
    }
   ],
   "source": [
    "2*(1+2)**2-2**2*2"
   ]
  },
  {
   "cell_type": "code",
   "execution_count": 36,
   "metadata": {},
   "outputs": [
    {
     "name": "stdout",
     "output_type": "stream",
     "text": [
      "計算梯形面積\n",
      "面積:17.5\n"
     ]
    }
   ],
   "source": [
    "#梯形面積\n",
    "#上底加下底*高/2\n",
    "\n",
    "print(\"計算梯形面積\")\n",
    "\n",
    "top=eval(input(\"輸入上底\"))\n",
    "bottom=eval(input(\"輸入下底\"))\n",
    "height=eval(input(\"輸入高\"))\n",
    "\n",
    "print(f\"面積:{(top+bottom)*height/2}\")\n",
    "\n"
   ]
  },
  {
   "cell_type": "code",
   "execution_count": 41,
   "metadata": {},
   "outputs": [
    {
     "ename": "NameError",
     "evalue": "name 'math' is not defined",
     "output_type": "error",
     "traceback": [
      "\u001b[1;31m---------------------------------------------------------------------------\u001b[0m",
      "\u001b[1;31mNameError\u001b[0m                                 Traceback (most recent call last)",
      "Cell \u001b[1;32mIn [41], line 2\u001b[0m\n\u001b[0;32m      1\u001b[0m \u001b[39mround\u001b[39m(\u001b[39m45.8\u001b[39m)\n\u001b[1;32m----> 2\u001b[0m math\u001b[39m.\u001b[39mfloor(\u001b[39m45.8\u001b[39m)\n",
      "\u001b[1;31mNameError\u001b[0m: name 'math' is not defined"
     ]
    }
   ],
   "source": [
    "round(45.8)\n",
    "math.floor(45.8)"
   ]
  },
  {
   "cell_type": "code",
   "execution_count": null,
   "metadata": {},
   "outputs": [],
   "source": []
  },
  {
   "cell_type": "markdown",
   "metadata": {},
   "source": []
  }
 ],
 "metadata": {
  "kernelspec": {
   "display_name": "Python 3.10.8 64-bit",
   "language": "python",
   "name": "python3"
  },
  "language_info": {
   "codemirror_mode": {
    "name": "ipython",
    "version": 3
   },
   "file_extension": ".py",
   "mimetype": "text/x-python",
   "name": "python",
   "nbconvert_exporter": "python",
   "pygments_lexer": "ipython3",
   "version": "3.10.8"
  },
  "orig_nbformat": 4,
  "vscode": {
   "interpreter": {
    "hash": "c19fa61d258bb2b35aae2ada233c33e2817c1ce895aa48acba720c6bf7cbe3cb"
   }
  }
 },
 "nbformat": 4,
 "nbformat_minor": 2
}
