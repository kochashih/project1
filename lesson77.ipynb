{
 "cells": [
  {
   "cell_type": "code",
   "execution_count": 13,
   "metadata": {},
   "outputs": [
    {
     "name": "stdout",
     "output_type": "stream",
     "text": [
      "國文成績100,英文成績50,獎金500\n"
     ]
    }
   ],
   "source": [
    "#chinese分數100 and english分數100 獎金1000\n",
    "#chinese分數100 or english分數100 獎金500\n",
    "#其餘0\n",
    "\n",
    "chinese=int(input(\"輸入國文分數\"))\n",
    "english=int(input(\"輸入英文分數\"))\n",
    "bonus=0\n",
    "\n",
    "if chinese==100:\n",
    "    if english==100:\n",
    "       bonus=1000\n",
    "    else:\n",
    "        bonus=500\n",
    "else:\n",
    "    if english==100:\n",
    "        bonus=500\n",
    "    else:\n",
    "        bonus=0\n",
    "print(f\"國文成績{chinese},英文成績{english},獎金{bonus}\")        \n",
    "\n",
    "        \n"
   ]
  }
 ],
 "metadata": {
  "kernelspec": {
   "display_name": "Python 3.10.8 ('venv02')",
   "language": "python",
   "name": "python3"
  },
  "language_info": {
   "codemirror_mode": {
    "name": "ipython",
    "version": 3
   },
   "file_extension": ".py",
   "mimetype": "text/x-python",
   "name": "python",
   "nbconvert_exporter": "python",
   "pygments_lexer": "ipython3",
   "version": "3.10.8"
  },
  "orig_nbformat": 4,
  "vscode": {
   "interpreter": {
    "hash": "5f0688a35ead239a10407915425add4c76b70960b3db7c12a80759ed067de409"
   }
  }
 },
 "nbformat": 4,
 "nbformat_minor": 2
}
