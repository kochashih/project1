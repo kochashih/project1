{
 "cells": [
  {
   "cell_type": "code",
   "execution_count": 3,
   "metadata": {},
   "outputs": [
    {
     "name": "stdout",
     "output_type": "stream",
     "text": [
      "國文分數是:90\n",
      "及格\n",
      "程式結束\n"
     ]
    }
   ],
   "source": [
    "chinese_str=input(\"輸入國文分數\")\n",
    "chinese_int=int(chinese_str)\n",
    "if chinese_int>=60:\n",
    "    print(f\"國文分數是:{chinese_int}\")\n",
    "    print(\"及格\")\n",
    "else:\n",
    "    print(\"不及格\")\n",
    "print(\"程式結束\")\n",
    "        "
   ]
  },
  {
   "cell_type": "code",
   "execution_count": 7,
   "metadata": {},
   "outputs": [
    {
     "name": "stdout",
     "output_type": "stream",
     "text": [
      "丁\n"
     ]
    }
   ],
   "source": [
    "chinese=int(input(\"輸入國文成績\"))\n",
    "if chinese>=90:\n",
    "    print(\"優\")\n",
    "elif chinese>=80:\n",
    "    print(\"甲\")\n",
    "elif chinese>=70:\n",
    "    print(\"乙\")\n",
    "elif chinese>=60:\n",
    "    print(\"丙\")\n",
    "else:\n",
    "    print(\"丁\")\n",
    "                    "
   ]
  },
  {
   "cell_type": "code",
   "execution_count": 17,
   "metadata": {},
   "outputs": [
    {
     "name": "stdout",
     "output_type": "stream",
     "text": [
      "實付金額:104000.0\n"
     ]
    }
   ],
   "source": [
    "price=int(input(\"輸入購買金額:\"))\n",
    "total=float\n",
    "if price>=100000:\n",
    "     total=price*0.8\n",
    "elif price>=50000:\n",
    "     total=price*0.85\n",
    "elif price>=30000:\n",
    "     total=price*0.9\n",
    "elif price>=10000:\n",
    "     total=price*0.95\n",
    "print(f\"實付金額:{total}\")    \n",
    "        "
   ]
  },
  {
   "cell_type": "code",
   "execution_count": 6,
   "metadata": {},
   "outputs": [
    {
     "name": "stdout",
     "output_type": "stream",
     "text": [
      "獎金:500\n"
     ]
    }
   ],
   "source": [
    "#巢狀判斷\n",
    "#國文分數100分 同時 英文分數100分 獎金1000\n",
    "#國文分數100分 或者 英文分數100分 獎金500\n",
    "#其餘0\n",
    "\n",
    "chinese=int(input(\"輸入國文分數:\"))\n",
    "english=int(input(\"輸入英文分數:\"))\n",
    "bonus=0\n",
    "\n",
    "if chinese==100:\n",
    "    if english==100:\n",
    "        bonus=1000\n",
    "    else:\n",
    "        bonus=500    \n",
    "else:\n",
    "    if english==100:\n",
    "        bonus=500\n",
    "    else:\n",
    "        bonus=0    \n",
    "print(f\"獎金:{bonus}\") \n",
    "\n",
    "\n",
    "\n"
   ]
  }
 ],
 "metadata": {
  "kernelspec": {
   "display_name": "Python 3.10.8 64-bit",
   "language": "python",
   "name": "python3"
  },
  "language_info": {
   "codemirror_mode": {
    "name": "ipython",
    "version": 3
   },
   "file_extension": ".py",
   "mimetype": "text/x-python",
   "name": "python",
   "nbconvert_exporter": "python",
   "pygments_lexer": "ipython3",
   "version": "3.10.8"
  },
  "orig_nbformat": 4,
  "vscode": {
   "interpreter": {
    "hash": "c19fa61d258bb2b35aae2ada233c33e2817c1ce895aa48acba720c6bf7cbe3cb"
   }
  }
 },
 "nbformat": 4,
 "nbformat_minor": 2
}
