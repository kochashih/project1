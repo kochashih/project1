{
 "cells": [
  {
   "cell_type": "code",
   "execution_count": 2,
   "metadata": {},
   "outputs": [
    {
     "name": "stdout",
     "output_type": "stream",
     "text": [
      "git\n"
     ]
    }
   ],
   "source": [
    "print(\"git\")"
   ]
  },
  {
   "cell_type": "code",
   "execution_count": 3,
   "metadata": {},
   "outputs": [
    {
     "data": {
      "text/plain": [
       "10"
      ]
     },
     "execution_count": 3,
     "metadata": {},
     "output_type": "execute_result"
    }
   ],
   "source": [
    "import random\n",
    "random.randint(1,10)"
   ]
  },
  {
   "cell_type": "code",
   "execution_count": null,
   "metadata": {},
   "outputs": [],
   "source": [
    "min=1\n",
    "max=5\n",
    "count=0\n",
    "random_value=random.randint(min,max)\n",
    "print(\"===猜數字遊戲===\")\n",
    "while True:\n",
    "    count +=1\n",
    "    keyin=int(input(f\"輸入數字範圍:{min}~{max}\"))\n",
    "    if keyin==random_value:\n",
    "        print(f\"猜對了,答案是{random_value}\")\n",
    "        break\n",
    "    else:\n",
    "        print(\"猜錯了\")\n",
    "print(f\"game over 共猜了{count}次\")  \n"
   ]
  },
  {
   "cell_type": "code",
   "execution_count": 10,
   "metadata": {},
   "outputs": [
    {
     "name": "stdout",
     "output_type": "stream",
     "text": [
      "===猜數字遊戲===\n",
      "超出範圍\n",
      "猜錯了\n",
      "猜對了,答案是3\n",
      "game over 共猜了3次\n"
     ]
    }
   ],
   "source": [
    "min=1\n",
    "max=5\n",
    "count=0\n",
    "random_value=random.randint(min,max)\n",
    "print(\"===猜數字遊戲===\")\n",
    "while True:\n",
    "    count +=1\n",
    "    keyin=int(input(f\"輸入數字範圍:{min}~{max}\"))\n",
    "    if keyin>= min and keyin <= max:                            #true  才進入下一個if述句\n",
    "        if keyin==random_value:\n",
    "            print(f\"猜對了,答案是{random_value}\")                #若 if述句 if keyin>= min and keyin <= max: 為flase\n",
    "            break                                               #則進入 else print(超出範圍)  \n",
    "        else:                                                   #則 再進入 while述句 繼續判斷 (因沒有break跳出while迴圈)\n",
    "            print(\"猜錯了\")\n",
    "    else:\n",
    "        print(\"超出範圍\")        \n",
    "\n",
    "print(f\"game over 共猜了{count}次\")  \n"
   ]
  },
  {
   "cell_type": "code",
   "execution_count": null,
   "metadata": {},
   "outputs": [],
   "source": [
    "min=1\n",
    "max=100\n",
    "count=0\n",
    "random_value=random.randint(min,max)\n",
    "print(\"===猜數字遊戲===\")\n",
    "while True:\n",
    "    count +=1\n",
    "    keyin=int(input(f\"輸入數字範圍:{min}~{max}\"))\n",
    "    if keyin>= min and keyin <= max:                           \n",
    "            if keyin==random_value:\n",
    "                print(f\"猜對了,答案是{random_value}\")                \n",
    "                break\n",
    "            elif keyin>random_value:\n",
    "                print(\"再小一點\")\n",
    "                max=keyin-1\n",
    "            elif keyin<random_value:\n",
    "                print(\"再大一點\")\n",
    "                min=keyin+1   \n",
    "            #if count==3\n",
    "            # break     \n",
    "    else:\n",
    "        print(\"超出範圍\")        \n",
    "\n",
    "print(f\"game over 共猜了{count}次\")  \n"
   ]
  }
 ],
 "metadata": {
  "kernelspec": {
   "display_name": "Python 3.10.8 ('venv01')",
   "language": "python",
   "name": "python3"
  },
  "language_info": {
   "codemirror_mode": {
    "name": "ipython",
    "version": 3
   },
   "file_extension": ".py",
   "mimetype": "text/x-python",
   "name": "python",
   "nbconvert_exporter": "python",
   "pygments_lexer": "ipython3",
   "version": "3.10.8"
  },
  "orig_nbformat": 4,
  "vscode": {
   "interpreter": {
    "hash": "f585960d03e6410a1df48bf7540211a913eda5552410df475740ff26195c0766"
   }
  }
 },
 "nbformat": 4,
 "nbformat_minor": 2
}
